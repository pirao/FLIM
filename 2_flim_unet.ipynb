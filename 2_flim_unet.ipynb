{
 "cells": [
  {
   "cell_type": "markdown",
   "metadata": {},
   "source": [
    "# Exploring FLIM Towards Semantic Segmentation\n",
    "\n",
    "> This notebook covers the necessary steps to experiment with a FLIM and a U-Net architecture, visualizing its activations. We will use FLIM to learn our encoder.\n",
    "\n",
    "We will approach the following:\n",
    "\n",
    "1. Split our data into training and testing;\n",
    "2. Configure a dataset;\n",
    "3. Configure our dataset as a data loader to provide data ingestion during the training phase;\n",
    "4. Define a fully convolutional network (U-Net);\n",
    "5. Define a method to load FLIM-Encoder into our U-Net model\n",
    "6. Learning rate schedulers;\n",
    "7. Define a training loop;\n",
    "8. Define a testing loop;\n",
    "9. Run training experiments and test our model;\n",
    "10. Run inferences with FLIM-Encoder using an adaptive decoder."
   ]
  },
  {
   "cell_type": "markdown",
   "metadata": {},
   "source": [
    "## 1. Split data into training and testing sets"
   ]
  },
  {
   "cell_type": "markdown",
   "metadata": {},
   "source": [
    "Let us first define our dataset; we will explore the parasite egg dataset towards 2D segmentation. The eggs are from Schistosoma Mansoni. The cell below imports the necessary libraries."
   ]
  },
  {
   "cell_type": "code",
   "execution_count": 1,
   "metadata": {
    "tags": []
   },
   "outputs": [],
   "source": [
    "# Necessary libraries\n",
    "from pathlib import Path, PosixPath\n",
    "import os\n",
    "from tqdm import tqdm\n",
    "from typing import List, Union\n",
    "import json\n",
    "\n",
    "from PIL import ImageOps\n",
    "from tifffile import imsave\n",
    "import numpy as np\n",
    "import matplotlib.pyplot as plt\n",
    "from PIL import Image\n",
    "\n",
    "import torch\n",
    "from torch.utils.data import Dataset\n",
    "from torch import nn\n",
    "from torchvision import transforms\n",
    "from torch.utils.data import DataLoader\n",
    "import torch_snippets\n",
    "from torchsummary import summary\n",
    "\n",
    "from skimage.color import lab2rgb"
   ]
  },
  {
   "cell_type": "markdown",
   "metadata": {},
   "source": [
    "First, we need to define the path to our dataset. We are using the reshaped parasite dataset (images and labels have a shape of 240x240 pixels with three channels). To run our experiments, we need to use either a GPU (DEVICE) or a CPU (\"cpu\"); for such, we set the DEVICE variable.\n",
    "\n",
    "We will also define the path to a JSON file which specifies our encoder architecture, and a folder with our endoder's weights."
   ]
  },
  {
   "cell_type": "code",
   "execution_count": 2,
   "metadata": {
    "tags": []
   },
   "outputs": [],
   "source": [
    "DATA_PATH = Path(\"../data/parasites\")\n",
    "ORIG_PATH = DATA_PATH / Path(\"all_images\")\n",
    "LABELS_PATH = DATA_PATH / Path(\"all_truelabels\")\n",
    "DEVICE = \"cuda\"\n",
    "\n",
    "# Run Using 5 filters Only\n",
    "'''\n",
    "ARCH_JSON = Path(\n",
    "    DATA_PATH / Path(\"flim_data/arch2d_seg_5_filters.json\")\n",
    ")\n",
    "WEIGHTS_PATH = Path(\n",
    "    DATA_PATH / Path(\"flim_data/model_bias_5_filters\")\n",
    ")\n",
    "'''\n",
    "\n",
    "# Run Using 16 and 32 filters\n",
    "ARCH_JSON = Path(\n",
    "    DATA_PATH / Path(\"flim_data/arch2d_seg.json\")\n",
    ")\n",
    "WEIGHTS_PATH = Path(\n",
    "    DATA_PATH / Path(\"flim_data/model_bias\")\n",
    ")\n",
    "\n",
    "# Reads architecture dict to define our network\n",
    "with open(ARCH_JSON, \"r\") as json_data:\n",
    "    arch_description = json.load(json_data)"
   ]
  },
  {
   "cell_type": "markdown",
   "metadata": {},
   "source": [
    "Our dataset contains 96 images. We will further divide it into training and testing images. We will use ~80% to train (76) and ~20% to test (20) the model. You may modify the n_train variable (currently derived using 80% - 0.8 - to adjust train and test size)."
   ]
  },
  {
   "cell_type": "code",
   "execution_count": 3,
   "metadata": {
    "tags": []
   },
   "outputs": [],
   "source": [
    "images = os.listdir(ORIG_PATH)\n",
    "images.sort()\n",
    "labels = images\n",
    "\n",
    "# 80% of train and 20% of test\n",
    "n_train = int((0.8 * len(images)))\n",
    "\n",
    "# Train Data (File Names)\n",
    "train_images = images[:n_train]\n",
    "train_labels = images[:n_train]\n",
    "# Test Data (File Names)\n",
    "test_images = images[n_train:]\n",
    "test_labels = images[n_train:]"
   ]
  },
  {
   "cell_type": "markdown",
   "metadata": {},
   "source": [
    "## 2. Configure a dataset\n",
    "\n",
    "Now, we need to define the Dataset class. It must:\n",
    "\n",
    "- Enable training and testing with a single image (If we want to train with a single image - Overfit). In this case, we set the parameter `image_id` to a number (e.g., 0);\n",
    "- Enable training and testing using the data splits. In this case, we set the parameter `image_id` to `None`."
   ]
  },
  {
   "cell_type": "markdown",
   "metadata": {},
   "source": [
    "First, to efficiently load LAB images we will use our C library (ift) through a python wrapper ([pyift](https://github.com/LIDS-UNICAMP/pyift)). The cell below executes the following:\n",
    "\n",
    "1. We install the pyift wheel (Loacate at ../data/libs)\n",
    "2. We create a symbolic link to the pyift.so"
   ]
  },
  {
   "cell_type": "code",
   "execution_count": 4,
   "metadata": {
    "tags": []
   },
   "outputs": [
    {
     "name": "stdout",
     "output_type": "stream",
     "text": [
      "Processing /home/afalcao/doc/cursos/convnets/notebooks/data/libs/pyift-0.1-cp311-cp311-linux_x86_64.whl\n",
      "pyift is already installed with the same version as the provided wheel. Use --force-reinstall to force an installation of the wheel.\n",
      "ln: failed to create symbolic link '/home/afalcao/miniconda3/envs/flim/lib/python3.11/site-packages/pyift/_pyift.cpython-311-x86_64-linux-gnu.so': File exists\n"
     ]
    }
   ],
   "source": [
    "# Install the whl located on data\n",
    "!python -m pip install ../data/libs/pyift-0.1-cp311-cp311-linux_x86_64.whl\n",
    "\n",
    "# Get path to site-packages\n",
    "import site\n",
    "site_packages_path = site.getsitepackages()[0]\n",
    "# Get absolute path\n",
    "abs_path = os.path.realpath(\"../data/libs/pyift\")\n",
    "\n",
    "# Create Symbolick Link\n",
    "!ln -s $abs_path/_pyift.*.so $site_packages_path/pyift/"
   ]
  },
  {
   "cell_type": "markdown",
   "metadata": {},
   "source": [
    "We start by importing the necessary libraries. As pyift to work with images in the LAB space."
   ]
  },
  {
   "cell_type": "code",
   "execution_count": 5,
   "metadata": {},
   "outputs": [],
   "source": [
    "import pyift.pyift as ift"
   ]
  },
  {
   "cell_type": "code",
   "execution_count": 6,
   "metadata": {
    "tags": []
   },
   "outputs": [],
   "source": [
    "class SegDataset(Dataset):\n",
    "    def __init__(\n",
    "        self,\n",
    "        images_path: PosixPath, # Path to images\n",
    "        labels_path: PosixPath, # Path to labels\n",
    "        images: List[str], # List of images\n",
    "        labels: List[str], # List of labels\n",
    "        image_id: int = None # Image ID if training with a single image\n",
    "    ):\n",
    "        self.images_path = [images_path / Path(image) for image in images]\n",
    "        self.labels_path = [labels_path / Path(label) for label in labels]\n",
    "        self.image_id = image_id\n",
    "\n",
    "        self.transforms = transforms.Compose([\n",
    "            transforms.ToTensor(),\n",
    "            transforms.ConvertImageDtype(torch.float32)\n",
    "        ])  \n",
    "\n",
    "    def __len__(self):\n",
    "        # If image id not provided, we are training with the whole dataset\n",
    "        if self.image_id == None:\n",
    "            return len(self.images_path)\n",
    "        else:\n",
    "            return 1\n",
    "        \n",
    "    def load_image(self, path):\n",
    "        image = ift.ReadImageByExt(path)\n",
    "        mimage = ift.ImageToMImage(image, color_space=ift.LABNorm2_CSPACE)\n",
    "        image = mimage.AsNumPy()\n",
    "        image = image.squeeze()\n",
    "        \n",
    "        return image\n",
    "\n",
    "    def __getitem__(self, idx):\n",
    "        if self.image_id == None:\n",
    "            image_path = self.images_path[idx]\n",
    "            label_path = self.labels_path[idx]\n",
    "        else:\n",
    "            image_path = self.images_path[self.image_id]\n",
    "            label_path = self.labels_path[self.image_id]\n",
    "        \n",
    "        image = self.load_image(str(image_path))\n",
    "        image = self.transforms(image)\n",
    "        \n",
    "        label = ImageOps.grayscale(Image.open(label_path))\n",
    "        label = self.transforms(label)\n",
    "\n",
    "        return image, label"
   ]
  },
  {
   "cell_type": "markdown",
   "metadata": {},
   "source": [
    "Now, let us visualize the output of our dataset object for a single image. The method `visualize_dataset_item` enables us to visualize an image of our dataset.\n",
    "\n",
    "Notice that it generates two masks, one for our foreground (parasite egg) and the other for the background."
   ]
  },
  {
   "cell_type": "code",
   "execution_count": 7,
   "metadata": {
    "tags": []
   },
   "outputs": [],
   "source": [
    "# Method to visualize Dataset Item (LAB)\n",
    "def visualize_dataset_item(dataset, item):\n",
    "    img, label = dataset.__getitem__(item)\n",
    "    img = img.permute(1, 2, 0)\n",
    "    img[:,:, 0] = img[:,:, 0] * 99.998337\n",
    "    img[:,:, 1] = img[:,:, 1] * (86.182236 + 98.258614) - 86.182236\n",
    "    img[:,:, 2] = img[:,:, 2] * (107.867744 + 94.481682) - 107.867744\n",
    "    img = lab2rgb(img)\n",
    "\n",
    "    plt.subplot(121)\n",
    "    plt.yticks([]),plt.xticks([])\n",
    "    plt.title(\"Image\")\n",
    "    plt.imshow(img)\n",
    "    plt.subplot(122)\n",
    "    plt.yticks([]),plt.xticks([])\n",
    "    plt.title(\"Label\")\n",
    "    plt.imshow(label.squeeze(), cmap=\"gray\")"
   ]
  },
  {
   "cell_type": "markdown",
   "metadata": {},
   "source": [
    "Then, we define our dataset using all training and testing data."
   ]
  },
  {
   "cell_type": "code",
   "execution_count": 8,
   "metadata": {
    "tags": []
   },
   "outputs": [],
   "source": [
    "# DATASETS - TRAIN AND TEST\n",
    "train_dataset = SegDataset(\n",
    "    images_path=ORIG_PATH,\n",
    "    labels_path=LABELS_PATH,\n",
    "    images=train_images,\n",
    "    labels=train_labels,\n",
    "    image_id=None\n",
    ")\n",
    "test_dataset = SegDataset(\n",
    "    images_path=ORIG_PATH,\n",
    "    labels_path=LABELS_PATH,\n",
    "    images=test_images,\n",
    "    labels=test_labels,\n",
    "    image_id=None\n",
    ")"
   ]
  },
  {
   "cell_type": "markdown",
   "metadata": {},
   "source": [
    "Test the method `visualize_dataset_item` to visualize different images (change the `dataset` and `item` parameters)."
   ]
  },
  {
   "cell_type": "code",
   "execution_count": 9,
   "metadata": {
    "tags": []
   },
   "outputs": [
    {
     "data": {
      "image/png": "[encoded data removed]",
      "text/plain": [
       "<Figure size 640x480 with 2 Axes>"
      ]
     },
     "metadata": {},
     "output_type": "display_data"
    }
   ],
   "source": [
    "visualize_dataset_item(train_dataset, 0)"
   ]
  },
  {
   "cell_type": "markdown",
   "metadata": {},
   "source": [
    "## 3. Configure our dataset as a dataloader"
   ]
  },
  {
   "cell_type": "markdown",
   "metadata": {},
   "source": [
    "Through PyTorch data loader ([`torch.utils.data.DataLoader`](https://pytorch.org/docs/stable/data.html#torch.utils.data.DataLoader)), we configure our dataset as a data loader by using:\n",
    "\n",
    "- A Dataset (Our Train and Test datasets);\n",
    "- A batch size (Number of images used to update the model's parameters);\n",
    "- If we want to shuffle our data at each epoch (We see images in different orders for each epoch)."
   ]
  },
  {
   "cell_type": "code",
   "execution_count": 34,
   "metadata": {
    "tags": []
   },
   "outputs": [
    {
     "name": "stdout",
     "output_type": "stream",
     "text": [
      "Images shape =>  torch.Size([12, 3, 240, 240])\n",
      "Labels shape =>  torch.Size([12, 1, 240, 240])\n"
     ]
    }
   ],
   "source": [
    "# DATALOADERS - TRAIN AND TEST\n",
    "train_dataloader = DataLoader(train_dataset, batch_size=12, shuffle=True)\n",
    "test_dataloader  = DataLoader(test_dataset, batch_size=1, shuffle=False)\n",
    "\n",
    "# Visualizes shape of a batch sampled from train dataloder\n",
    "sample_train_images, sample_train_labels = next(iter(train_dataloader))\n",
    "print(\"Images shape => \", sample_train_images.shape)\n",
    "print(\"Labels shape => \", sample_train_labels.shape)"
   ]
  },
  {
   "cell_type": "markdown",
   "metadata": {},
   "source": [
    "## 4. Define a fully convolutional network (U-Net)\n",
    "\n",
    "Now, we have a dataloader working. It is responsible for feeding data, both the input image and the parasite egg's segmentation mask, to a deep learning model. We expect that, given an input image, our model will learn to segment the parasite egg, if any.\n",
    "\n",
    "Now, the following cells define our deep-learning model, a U-Net architecture (**see the image below**). We also enable our model to store the activation maps for visual analysis.\n",
    "\n",
    "U-Net architectures have two parts: an encoder (left part) and a decoder (right part). The encoder extracts image features at different levels while the encoder combines those extracted features to detect and segment.\n",
    "\n",
    "![](arch_sample_flim.png)"
   ]
  },
  {
   "cell_type": "markdown",
   "metadata": {},
   "source": [
    "Let us first define some methods to help us:\n",
    "\n",
    "- **up_conv:** Implements our **ConvTranspose2d** convolutions, responsible for upsampling our features in the decoder;\n",
    "- **Conv:** Implements our **Conv2D** in decoders;\n",
    "- **init_weights:** Initializes our model's parameters, using Xavier uniform for convolution's weights and setting biases to 0.01."
   ]
  },
  {
   "cell_type": "code",
   "execution_count": 11,
   "metadata": {
    "tags": []
   },
   "outputs": [],
   "source": [
    "# Utilitarians blocks for UNet Decoder\n",
    "# Upsamples input feature map\n",
    "def up_conv(in_channels, out_channels, kernel_size=2, padding=0, stride=2, output_padding=0):\n",
    "    return nn.Sequential(\n",
    "        nn.ConvTranspose2d(in_channels, out_channels, kernel_size=kernel_size, padding=padding, stride=stride, output_padding=output_padding),\n",
    "        nn.ReLU(inplace=True)\n",
    "    )\n",
    "    \n",
    "# Defines convolutional blocks for our decoder\n",
    "def conv(in_channels, out_channels, kernel_size, padding=1):\n",
    "    return nn.Sequential(\n",
    "        nn.Conv2d(in_channels, out_channels, kernel_size=kernel_size, stride=1, padding=padding),\n",
    "        nn.ReLU(inplace=True),\n",
    "    )\n",
    "    \n",
    "# Initializes kernel weights\n",
    "def init_weights(m):\n",
    "    if (isinstance(m,nn.Conv2d) or (isinstance(m,nn.ConvTranspose2d))):\n",
    "        torch.nn.init.xavier_uniform_(m.weight)\n",
    "        if m.bias is not None:\n",
    "            m.bias.data.fill_(0.01)"
   ]
  },
  {
   "cell_type": "markdown",
   "metadata": {},
   "source": [
    "Now, the class UNet defines our U-Net architecture:\n",
    "\n",
    "1. On the **__init__** method, we first set a random_seed to guarantee reproducibility. Then, we define our encoder blocks (block1, and block2), our bottleneck, and finally, our decoder (up_convs + dec_convs and the pred convolution, which outputs our segmentation mask);\n",
    "2. Our **forward** method is responsible for passing the input image through the model architecture until we get the parasite egg's mask at the end;\n",
    "3. **write_activation** and **save_activations** saves activations of each network block for visual inspection;\n",
    "4. **save_curves** will save the learning curves of our models at the end of our training loop.\n",
    "\n",
    "To initialize a U-Net model, we must set the following parameters:\n",
    "\n",
    "- `in_channels:` The number of channels of our input (e.g., 3 for RGB and 1 for Gray);\n",
    "- `n_kernels:` A list of 3 integer values specifying the number of kernels for each convolutional block (e.g., [8, 16,32]). Those values are used to define both encoder and decoder convolutional blocks;\n",
    "- `kernel_sizes:` A list of 3 integer values, specifying the kernels' size for each convolutional block (e.g., [3, 3, 3]);\n",
    "- `activations_path:` A path to save each convolutional block activation. After training, one could navigate into that folder to visualize what kind of features the model is extracting."
   ]
  },
  {
   "cell_type": "code",
   "execution_count": 12,
   "metadata": {
    "tags": []
   },
   "outputs": [],
   "source": [
    "class UNet(nn.Module):\n",
    "    def __init__(\n",
    "            self, in_channels: int, # RGB or LAB -> 3 Channels\n",
    "            n_kernels: List[int], # N Kernels by conv block\n",
    "            kernel_sizes: List[int], # Kernel sizes by conv block\n",
    "            bottleneck_size: int, # Kernel size for bottleneck\n",
    "            activations_path: PosixPath = None # Path to save activations\n",
    "    ) -> None:\n",
    "        super().__init__()\n",
    "        \n",
    "        # Sets torch seed to guaratee Reproducibility\n",
    "        random_seed = 7\n",
    "        torch.manual_seed(random_seed)\n",
    "        torch.cuda.manual_seed(random_seed)\n",
    "        torch.backends.cudnn.deterministic = True\n",
    "        torch.backends.cudnn.benchmark = False\n",
    "        \n",
    "        self.activations_path = activations_path\n",
    "        \n",
    "        # Encoder Convolutional Blocks\n",
    "        self.block1 = nn.Sequential(\n",
    "            nn.Conv2d(\n",
    "                in_channels=in_channels, out_channels=n_kernels[0],\n",
    "                kernel_size=kernel_sizes[0],\n",
    "                padding=kernel_sizes[0] // 2\n",
    "            ),\n",
    "            nn.ReLU(),\n",
    "            nn.MaxPool2d(\n",
    "                kernel_size=3, stride=2,\n",
    "                padding=1\n",
    "            )\n",
    "        )\n",
    "        self.block2 = nn.Sequential(\n",
    "            nn.Conv2d(\n",
    "                in_channels=n_kernels[0], out_channels=n_kernels[1],\n",
    "                kernel_size=kernel_sizes[1],\n",
    "                padding=kernel_sizes[1] // 2\n",
    "            ),\n",
    "            nn.ReLU(),\n",
    "            nn.MaxPool2d(\n",
    "                kernel_size=3, stride=2,\n",
    "                padding=1\n",
    "            )\n",
    "        )\n",
    "        \n",
    "        # Bottleneck\n",
    "        self.bottleneck = nn.Conv2d(\n",
    "            in_channels=n_kernels[1], out_channels=2*n_kernels[1], \n",
    "            kernel_size=bottleneck_size, stride=2, padding=bottleneck_size//2\n",
    "        )\n",
    "        \n",
    "        # Decoder\n",
    "        self.up_conv1 = up_conv(\n",
    "            in_channels=2*n_kernels[1], out_channels=n_kernels[1]\n",
    "        )\n",
    "        self.dec_conv1 = conv(\n",
    "            in_channels=2*n_kernels[1], out_channels=n_kernels[1],\n",
    "            kernel_size=kernel_sizes[1], padding=kernel_sizes[1] // 2\n",
    "        )\n",
    "        self.up_conv2 = up_conv(\n",
    "            in_channels=n_kernels[1], out_channels=n_kernels[0]\n",
    "        )\n",
    "        self.dec_conv2 = conv(\n",
    "            in_channels=2*n_kernels[0], out_channels=n_kernels[0],\n",
    "            kernel_size=kernel_sizes[0], padding=kernel_sizes[0] // 2\n",
    "        )\n",
    "        self.up_conv_pred = up_conv(\n",
    "            in_channels=n_kernels[0], out_channels=n_kernels[0]\n",
    "        )\n",
    "        self.pred = nn.Conv2d(\n",
    "            in_channels=n_kernels[0], out_channels=1, kernel_size=1\n",
    "        )\n",
    "        \n",
    "        # Initializes weights\n",
    "        self.block1.apply(init_weights)\n",
    "        self.block2.apply(init_weights)\n",
    "        self.up_conv1.apply(init_weights)\n",
    "        self.dec_conv1.apply(init_weights)\n",
    "        self.up_conv2.apply(init_weights)\n",
    "        self.dec_conv2.apply(init_weights)\n",
    "        self.up_conv_pred.apply(init_weights)\n",
    "        self.pred.apply(init_weights)    \n",
    "    \n",
    "    def forward(self, x: torch.Tensor) -> torch.Tensor:\n",
    "        # Dictionary to keep track of activations\n",
    "        self.activations = {\"encoder\": [], \"decoder\": []}\n",
    "              \n",
    "        # Encoder\n",
    "        x1 = self.block1(x)\n",
    "        self.activations[\"encoder\"].append(x1)\n",
    "        x2 = self.block2(x1)\n",
    "        self.activations[\"encoder\"].append(x2)\n",
    "        \n",
    "        # Bottleneck\n",
    "        bottleneck = self.bottleneck(x2)\n",
    "        \n",
    "        # Decoder - torch.cat performs skip connections on decoder\n",
    "        x = self.up_conv1(bottleneck)\n",
    "        x = torch.cat([x, x2], dim=1)\n",
    "        x = self.dec_conv1(x)\n",
    "        self.activations[\"decoder\"].append(x)\n",
    "        x = self.up_conv2(x)\n",
    "        x = torch.cat([x, x1], dim=1)\n",
    "        x = self.dec_conv2(x)\n",
    "        self.activations[\"decoder\"].append(x)\n",
    "        x = self.up_conv_pred(x)\n",
    "        x = self.pred(x)\n",
    "        \n",
    "        return x\n",
    "    \n",
    "    def write_activation(\n",
    "        self, image: np.ndarray, path: PosixPath, reshape: bool=False\n",
    "    ) -> None:\n",
    "        max_img = np.max(image)\n",
    "        min_img = np.min(image)\n",
    "        if (min_img != max_img):\n",
    "            image = 255 * (image - min_img) / (max_img - min_img)\n",
    "        image = image.astype(np.uint8)\n",
    "\n",
    "        image = Image.fromarray(image)\n",
    "        if reshape:\n",
    "            image = image.resize((240, 240), Image.Resampling.NEAREST)\n",
    "        image.save(path)\n",
    "    \n",
    "    @torch.no_grad()\n",
    "    def save_activations(self, epoch: int, data_loader) -> None:\n",
    "        # Save encoder activations\n",
    "        activations_path = self.activations_path / Path(f\"epoch_{epoch}\")\n",
    "        \n",
    "        # Save activations for each image\n",
    "        print(\"[INFO] Saving activations!\")\n",
    "        images_path = data_loader.dataset.images_path\n",
    "        for image_path in tqdm(images_path):\n",
    "            image_name = os.path.basename(image_path)\n",
    "            saving_path = activations_path / Path(image_name.replace(\".png\",\"\")) / Path(\"encoder\")\n",
    "            saving_path_reshape = activations_path / Path(image_name.replace(\".png\",\"\")) / Path(\"encoder_reshape\") \n",
    "            os.makedirs(saving_path, exist_ok=True)\n",
    "            os.makedirs(saving_path_reshape, exist_ok=True)\n",
    "            \n",
    "            image = data_loader.dataset.load_image(str(image_path))\n",
    "            image_data = data_loader.dataset.transforms(image)\n",
    "            \n",
    "            # Adds batch dimension\n",
    "            image_data = torch.unsqueeze(image_data, dim=0)\n",
    "            image_data = image_data.to(DEVICE)\n",
    "            self.to(DEVICE)\n",
    "            self.forward(image_data)\n",
    "        \n",
    "            # Save encoder activations\n",
    "            for actv_idx, activations in enumerate(self.activations[\"encoder\"]):\n",
    "                activations = activations.cpu().detach().numpy()\n",
    "                for ch_idx in range(activations.shape[1]):\n",
    "                    channel_activations = activations[0, ch_idx, ...]\n",
    "\n",
    "                    filename = Path(f\"layer_{actv_idx}_ch_{ch_idx}.png\")\n",
    "                    # Save normal size image\n",
    "                    self.write_activation(\n",
    "                        channel_activations, saving_path / filename\n",
    "                    )\n",
    "                    # Reshape to input size\n",
    "                    self.write_activation(\n",
    "                        channel_activations, saving_path_reshape / filename, True\n",
    "                )\n",
    "                    \n",
    "            # Save decoder activations\n",
    "            saving_path = activations_path / Path(image_name.replace(\".png\",\"\")) / Path(\"decoder\")\n",
    "            saving_path_reshape = activations_path / Path(image_name.replace(\".png\",\"\")) / Path(\"decoder_reshape\") \n",
    "            os.makedirs(saving_path, exist_ok=True)\n",
    "            os.makedirs(saving_path_reshape, exist_ok=True)\n",
    "            for actv_idx, activations in enumerate(self.activations[\"decoder\"]):\n",
    "                activations = activations.cpu().detach().numpy()\n",
    "                for ch_idx in range(activations.shape[1]):\n",
    "                    channel_activations = activations[0, ch_idx, ...]\n",
    "\n",
    "                    filename = Path(f\"layer_{actv_idx}_ch_{ch_idx}.png\")\n",
    "                    # Save normal size imagace\n",
    "                    self.write_activation(\n",
    "                        channel_activations, saving_path / filename\n",
    "                    )\n",
    "                    # Reshape to input size\n",
    "                    self.write_activation(\n",
    "                        channel_activations, saving_path_reshape / filename, True\n",
    "                    )\n",
    "\n",
    "        # Save model weights\n",
    "        torch.save(self.state_dict(), activations_path / Path(\"model.pth\"))\n",
    "        \n",
    "    def save_curves(self, logger: torch_snippets.torch_loader.Report) -> None:\n",
    "        _, ax = plt.subplots(figsize=(8, 6))\n",
    "        logger.plot_epochs(['trn_loss'], ax=ax)\n",
    "        savefig_path = self.activations_path / Path(\"loss.png\")\n",
    "        plt.savefig(savefig_path)\n",
    "        \n",
    "        _, ax = plt.subplots(figsize=(8, 6))\n",
    "        logger.plot_epochs(['trn_accuracy'], ax=ax)\n",
    "        savefig_path = self.activations_path / Path(\"accuracy.png\")\n",
    "        plt.savefig(savefig_path)"
   ]
  },
  {
   "cell_type": "markdown",
   "metadata": {},
   "source": [
    "## 5. Define a method to load FLIM-Encoder into our U-Net model"
   ]
  },
  {
   "cell_type": "markdown",
   "metadata": {},
   "source": [
    "Additionally, as we will use a FLIM Encoder as our U-Net encoder, we define methods to load the FLIM Encoder's weight into the U-Net encoder.\n",
    "\n",
    "The method `load_FLIM_encoder`, receives as parameters:\n",
    "\n",
    "- `model`: Our U-Net model;\n",
    "- `arch_json`: The path to a JSON file describing our FLIM-Encoder;\n",
    "- `weights_path`: The path to a folder with the FLIM-Encoder's weights;\n",
    "- `channels`: A list specifying the number of input channels (e.g., 3 for RGB) and the number of filters for each encoder convolutional block."
   ]
  },
  {
   "cell_type": "code",
   "execution_count": 13,
   "metadata": {
    "tags": []
   },
   "outputs": [],
   "source": [
    "def get_bias(bias_path: PosixPath) -> np.ndarray:\n",
    "    with open(bias_path, \"r\") as file:\n",
    "        n_kernels = file.readline()\n",
    "        bias = file.readline().strip().split(\" \")\n",
    "    \n",
    "    bias = np.array(bias).astype(np.float32)\n",
    "    \n",
    "    return bias\n",
    "\n",
    "\n",
    "def shift_weights(weights: np.ndarray, kernel_size: int, in_channels: int) -> np.ndarray:\n",
    "\n",
    "    nkernels = weights.shape[1]\n",
    "    \n",
    "    shifted_weights = np.zeros((nkernels,in_channels,kernel_size[1],kernel_size[0]))    \n",
    "   \n",
    "    for k in range(nkernels): \n",
    "        for channel in range(in_channels):\n",
    "            i = channel\n",
    "            for row in range(kernel_size[1]):\n",
    "                for col in range(kernel_size[0]):\n",
    "                    shifted_weights[k][channel][row][col] = weights[i][k]\n",
    "                    i = i + in_channels\n",
    "\n",
    "    return shifted_weights\n",
    "\n",
    "\n",
    "def get_weights(kernel_path: PosixPath,  kernel_size: int, in_channels: int) -> np.ndarray:\n",
    "    weights = np.load(kernel_path)\n",
    "    weights = shift_weights(weights, kernel_size, in_channels)\n",
    "    \n",
    "    return weights\n",
    "\n",
    "def load_FLIM_encoder(model: UNet, arch_json: PosixPath, weights_path: PosixPath, channels: List[int]) -> None:\n",
    "    with open(arch_json, \"r\") as json_data:\n",
    "        arch_description = json.load(json_data)\n",
    "    \n",
    "    n_layers = arch_description[\"nlayers\"]\n",
    "    \n",
    "    in_channels = channels[0]\n",
    "    print(\"[INFO] Loading FLIM Encoder\")\n",
    "    for n in range(1, n_layers + 1):\n",
    "        out_channels = channels[n]\n",
    "\n",
    "        print(f\"[INFO] Loading Layer {n} weights\")\n",
    "        # Gets each encoder Block to set its weights and biases\n",
    "        model_block = getattr(model, f\"block{n}\")\n",
    "        \n",
    "        # Sets its biases\n",
    "        bias_path = weights_path / Path(f\"conv{n}-bias.txt\")\n",
    "        kernel_path = weights_path / Path(f\"conv{n}-kernels.npy\")\n",
    "        # Get biases and set to model - Accessing conv block biases\n",
    "        bias = get_bias(bias_path)\n",
    "        bias = nn.Parameter(torch.from_numpy(bias).float())\n",
    "        model_block[0].bias.data = bias.to(DEVICE)\n",
    "        \n",
    "        # Get kernel weights and set to model - Accessing conv block weights\n",
    "        kernel_size = arch_description[f\"layer{n}\"][\"conv\"][\"kernel_size\"]\n",
    "        weights = get_weights(kernel_path, kernel_size, in_channels)\n",
    "        weights = nn.Parameter(torch.from_numpy(weights).float())\n",
    "        model_block[0].weight.data = weights.to(DEVICE)\n",
    "        \n",
    "        in_channels = channels[n]"
   ]
  },
  {
   "cell_type": "markdown",
   "metadata": {},
   "source": [
    "## 6. Learning rate scheduler"
   ]
  },
  {
   "cell_type": "markdown",
   "metadata": {},
   "source": [
    "Fine-tuning an architecture already trained with an untrained decoder running the first epochs with a small learning rate is helpful. As the first epochs using an untrained decoder will result in higher errors, a lower learning rate scheduler avoids \"forgetting\" what the FLIM-Encoder has already learned.\n",
    "\n",
    "The cell below shows how to define and use a learning rate scheduler."
   ]
  },
  {
   "cell_type": "code",
   "execution_count": 14,
   "metadata": {
    "tags": []
   },
   "outputs": [],
   "source": [
    "# Import necessary libraries\n",
    "import torch.optim as optim\n",
    "import torch.optim.lr_scheduler as lr_scheduler"
   ]
  },
  {
   "cell_type": "code",
   "execution_count": 15,
   "metadata": {
    "tags": []
   },
   "outputs": [],
   "source": [
    "# create a simple model \n",
    "model = nn.Sequential(\n",
    "    nn.Linear(34, 34),\n",
    "    nn.ReLU(),\n",
    "    nn.Linear(34, 1),\n",
    "    nn.Sigmoid()\n",
    ")\n",
    "\n",
    "lr=1e-3\n",
    "optimizer = optim.Adam(model.parameters(), lr=lr)\n",
    "loss_fn = nn.BCELoss()\n",
    "# Start Factor of the optimizer learning rate\n",
    "# End factor of the optimizer learning rate\n",
    "# Total iterations to increase from Start to End Factor\n",
    "scheduler = lr_scheduler.LinearLR(\n",
    "    optimizer, start_factor=1e-3, end_factor=1,\n",
    "    total_iters=400, verbose=False\n",
    ")\n",
    "\n",
    "# List to plot our results\n",
    "lrs = []\n",
    "epochs = []\n",
    "\n",
    "for epoch in range(1000):\n",
    "    lr = scheduler.get_last_lr()\n",
    "    epochs.append(epoch+1)\n",
    "    lrs.append(lr)\n",
    "    optimizer.step()\n",
    "    scheduler.step()"
   ]
  },
  {
   "cell_type": "markdown",
   "metadata": {},
   "source": [
    "The cell below shows our learning rate across 1000 training epochs."
   ]
  },
  {
   "cell_type": "code",
   "execution_count": 16,
   "metadata": {
    "tags": []
   },
   "outputs": [
    {
     "data": {
      "image/png": "[encoded data removed]",
      "text/plain": [
       "<Figure size 640x480 with 1 Axes>"
      ]
     },
     "metadata": {},
     "output_type": "display_data"
    }
   ],
   "source": [
    "plt.plot(epochs, lrs, \"b--\")\n",
    "plt.xlabel(\"Epochs\")\n",
    "plt.ylabel(\"Learning Rate\")\n",
    "plt.title(\"Learning Rate Vs Epochs\")\n",
    "plt.show()"
   ]
  },
  {
   "cell_type": "markdown",
   "metadata": {},
   "source": [
    "## 7. Define a training loop"
   ]
  },
  {
   "cell_type": "markdown",
   "metadata": {},
   "source": [
    "We have everything prepared in our pipeline; we lack a training loop that will feed data from the data loader to our model and use the model's prediction to compute loss and update the model's parameter.\n",
    "\n",
    "Furthermore, as we are using a FLIM-Encoder, we want our training loop to have two additional features:\n",
    "\n",
    "- **Freeze the Encoder's Weights**: In this case, we do not learn the encoder; our training loop updates the decoder's parameters.\n",
    "- **Train with a Learning Rate Scheduler:** We use a learning rate scheduler to optimize the encoder's weights."
   ]
  },
  {
   "cell_type": "markdown",
   "metadata": {},
   "source": [
    "First, we import the necessary libraries."
   ]
  },
  {
   "cell_type": "code",
   "execution_count": 17,
   "metadata": {
    "tags": []
   },
   "outputs": [],
   "source": [
    "from torch_snippets import optim, Report\n",
    "from torchsummary import summary\n",
    "import monai\n",
    "from monai.losses import DiceLoss, DiceFocalLoss\n",
    "import cv2"
   ]
  },
  {
   "cell_type": "markdown",
   "metadata": {},
   "source": [
    "Secondly, we define a loss function which we want to optimize. Those loss functions were calculated by comparing the model's prediction with the ground-truth segmentation mask. To optimize those loss functions is to produce better segmentation masks.\n",
    "\n",
    "Below, we made avaialable the following losses:\n",
    "\n",
    "- [MSE](https://pytorch.org/docs/stable/generated/torch.nn.MSELoss.html#torch.nn.MSELoss)\n",
    "- [BCE](https://pytorch.org/docs/stable/generated/torch.nn.BCELoss.html#torch.nn.BCELoss)\n",
    "- [DiceLoss](https://docs.monai.io/en/stable/losses.html)\n",
    "\n",
    "> See our slide decks and the link provided for further details."
   ]
  },
  {
   "cell_type": "code",
   "execution_count": 18,
   "metadata": {
    "tags": []
   },
   "outputs": [],
   "source": [
    "loss_fuctions = {\n",
    "    \"mse\": nn.MSELoss(),\n",
    "    \"bce\": nn.BCELoss(),\n",
    "    \"dice\": DiceLoss(sigmoid=False, batch=False),\n",
    "}"
   ]
  },
  {
   "cell_type": "markdown",
   "metadata": {},
   "source": [
    "Finally, we define our training loop. For such, we must provide:\n",
    "\n",
    "- The number of epochs to train our model;\n",
    "- Our U-Net model;\n",
    "- A data loader;\n",
    "- The name of our loss_function (e.g., \"mse\", \"bce\");\n",
    "- Our learning rate (lr), which controls the size of updates in the models' parameters. A too-high value will cause instability, while a too-low value will result in slower training;\n",
    "- The `freeze_encoder` parameter. `False` allows our training loop to update the encoder's weights, while `True` does not allow it.\n",
    "- The `use_lr_scheduler` parameter. `True` allows our training loop to use a learning rate scheduler, while `True` uses a fixed learning rate.\n",
    "- The `iters_scheduler` indicates number of epochs to reach the target learning rate.\n",
    "\n",
    "> The N_SAVE_ACTIVATIONS variable controls when we save our convolution activations. For instance, currently, it writes activations for every 200 epochs."
   ]
  },
  {
   "cell_type": "code",
   "execution_count": 19,
   "metadata": {
    "tags": []
   },
   "outputs": [],
   "source": [
    "N_SAVE_ACTIVATIONS = 100\n",
    "def train_loop(\n",
    "        epochs, model, dataloader, lr, loss_function,\n",
    "        freeze_encoder=False, use_lr_scheduler=False, iters_scheduler=20\n",
    "    ):\n",
    "    optimizer = optim.Adam(model.parameters(), lr=lr)\n",
    "    if use_lr_scheduler:\n",
    "        scheduler = lr_scheduler.LinearLR(optimizer, start_factor=1e-1, end_factor=1, total_iters=iters_scheduler, verbose=False)\n",
    "    model.to(DEVICE)\n",
    "    \n",
    "    # Freeze encoder weights\n",
    "    if freeze_encoder:\n",
    "        model.block1.requires_grad_(False)\n",
    "        model.block1.trainable = False\n",
    "        model.block2.requires_grad_(False)\n",
    "        model.block2.trainable = False\n",
    "    \n",
    "    logger = Report(epochs)\n",
    "\n",
    "    for epoch in range(epochs):\n",
    "        losses = []\n",
    "        accuracies = []\n",
    "        for batch in dataloader: # In our case, a single image, or 3\n",
    "            model.train()\n",
    "            image, ground_truth = batch\n",
    "            image = image.to(DEVICE)\n",
    "            ground_truth = ground_truth.to(DEVICE)\n",
    "            prediction = model(image)\n",
    "            optimizer.zero_grad()\n",
    "\n",
    "            # Computes loss and accuracy\n",
    "            prediction = torch.sigmoid(prediction)\n",
    "            loss_value = loss_function(prediction, ground_truth)\n",
    "\n",
    "            accuracy = (\n",
    "                (prediction > 0.5) == ground_truth\n",
    "            ).float().mean()\n",
    "            \n",
    "            losses.append(loss_value)\n",
    "            accuracies.append(accuracy)\n",
    "\n",
    "            loss_value.backward()\n",
    "            optimizer.step()\n",
    "        \n",
    "        # At the end of the epoch, we take a step in our LR Scheduler\n",
    "        if use_lr_scheduler:\n",
    "            scheduler.step()\n",
    "        \n",
    "        mean_loss = torch.mean(torch.Tensor(losses))\n",
    "        mean_acc = torch.mean(torch.Tensor(accuracies))\n",
    "        logger.record(\n",
    "            epoch + 1,\n",
    "            trn_loss=mean_loss.item(),\n",
    "            trn_accuracy=mean_acc.item()\n",
    "            )\n",
    "        if ((epoch + 1) % N_SAVE_ACTIVATIONS) == 0:\n",
    "            model.save_activations(epoch, dataloader)\n",
    "\n",
    "    model.save_curves(logger)"
   ]
  },
  {
   "cell_type": "markdown",
   "metadata": {},
   "source": [
    "## 8. Define a testing loop"
   ]
  },
  {
   "cell_type": "markdown",
   "metadata": {},
   "source": [
    "First, we import necessary libraries"
   ]
  },
  {
   "cell_type": "code",
   "execution_count": 20,
   "metadata": {
    "tags": []
   },
   "outputs": [],
   "source": [
    "from medpy.metric import binary\n",
    "from torchmetrics import JaccardIndex\n",
    "np.bool = np.bool_"
   ]
  },
  {
   "cell_type": "markdown",
   "metadata": {},
   "source": [
    "The cells below define a method to use our trained model and predict a segmentation map. We also compute metrics between the prediction map and the ground truth. The following metrics were used:\n",
    "\n",
    "- [Accuracy](https://torchmetrics.readthedocs.io/en/stable/classification/accuracy.html);\n",
    "- [Dice](http://loli.github.io/medpy/generated/medpy.metric.binary.dc.html#medpy.metric.binary.dc);\n",
    "- [Intersection-over-Union](https://torchmetrics.readthedocs.io/en/stable/classification/jaccard_index.html), also know as jaccard_index.\n",
    "\n",
    "> It will also save the predictions to the folder where activations of our model are saved."
   ]
  },
  {
   "cell_type": "code",
   "execution_count": 21,
   "metadata": {
    "tags": []
   },
   "outputs": [],
   "source": [
    "# This code gets the trained model and execute inferences on the Dataloader\n",
    "@torch.no_grad()\n",
    "def predict_and_evaluate(\n",
    "        model: UNet, \n",
    "        data_loader:torch.utils.data.dataloader.DataLoader\n",
    "    ):\n",
    "    images_path = data_loader.dataset.images_path\n",
    "    labels_path = data_loader.dataset.labels_path\n",
    "    folder_to_save = model.activations_path / Path(\"0_preds\")\n",
    "    os.makedirs(folder_to_save, exist_ok=True)\n",
    "    \n",
    "    accuracies = []\n",
    "    dices = []\n",
    "    ious = []\n",
    "    jaccard_index = JaccardIndex(num_classes=2, task=\"binary\")\n",
    "\n",
    "    for image_path, label_path in tqdm(zip(images_path, labels_path)):\n",
    "        image = data_loader.dataset.load_image(str(image_path))\n",
    "        image_data = data_loader.dataset.transforms(image)\n",
    "        ground_truth = data_loader.dataset.transforms(\n",
    "            ImageOps.grayscale(Image.open(label_path))\n",
    "        )\n",
    "        ground_truth = ground_truth.cpu().detach().numpy()[0]\n",
    "        # Adds batch dimension\n",
    "        image_data = torch.unsqueeze(image_data, dim=0)\n",
    "        image_data = image_data.to(DEVICE)\n",
    "        prediction = model(image_data)\n",
    "        prediction = torch.sigmoid(prediction)\n",
    "        \n",
    "        image_name = os.path.basename(image_path)\n",
    "        path_to_save = folder_to_save / Path(image_name)\n",
    "        mask = np.zeros((240, 240), dtype=np.uint8)\n",
    "        prediction = prediction.cpu().detach().numpy().squeeze()\n",
    "        mask[prediction > 0.5] = 1\n",
    "        \n",
    "        accuracy = np.mean((mask == ground_truth).astype(np.float32))\n",
    "        accuracies.append(accuracy)\n",
    "        # Verifies if there are parasite eggs in the images\n",
    "        if np.any(ground_truth > 0):\n",
    "            dice = binary.dc(mask, ground_truth)\n",
    "            dices.append(dice)\n",
    "            iou = jaccard_index(torch.Tensor(mask).long(), torch.Tensor(ground_truth).long())\n",
    "            \n",
    "            ious.append((iou.numpy()))\n",
    "        else: # If not\n",
    "            # If there is no parasite and our model predicted it, dice and iou equals 0\n",
    "            if np.any(mask > 0):\n",
    "                dices.append(0)\n",
    "                ious.append(0)\n",
    "            # If there is no parasite and our model did not predict it, dice and iou equals 1 (100%)\n",
    "            else:\n",
    "                dices.append(1)\n",
    "                ious.append(1)\n",
    "                \n",
    "        \n",
    "        cv2.imwrite(\n",
    "            str(path_to_save), mask * 255\n",
    "        )\n",
    "    \n",
    "    accuracies = np.array(accuracies)\n",
    "    dices = np.array(dices)\n",
    "    ious = np.array(ious)\n",
    "    \n",
    "    print(f\"[INFO] Avg Accuracy: {np.mean(accuracies)} +/- {np.std(accuracies)}\")\n",
    "    print(f\"[INFO] Avg Dice: {np.mean(dices)} +/- {np.std(dices)}\")\n",
    "    print(f\"[INFO] Avg IoU: {np.mean(ious)} +/- {np.std(ious)}\")"
   ]
  },
  {
   "cell_type": "markdown",
   "metadata": {},
   "source": [
    "## 9. Run training experiments and test our model"
   ]
  },
  {
   "cell_type": "markdown",
   "metadata": {},
   "source": [
    "The cell below defines our U-Net model and loads FLIM-Encoder weights into it. It is a simpler architecture than the one used in our previous notebook (1_plain_unet). Our last network was deeper, with additional encoder and decoder blocks."
   ]
  },
  {
   "cell_type": "code",
   "execution_count": 22,
   "metadata": {
    "tags": []
   },
   "outputs": [
    {
     "name": "stdout",
     "output_type": "stream",
     "text": [
      "[INFO] Loading FLIM Encoder\n",
      "[INFO] Loading Layer 1 weights\n",
      "[INFO] Loading Layer 2 weights\n",
      "==========================================================================================\n",
      "Layer (type:depth-idx)                   Output Shape              Param #\n",
      "==========================================================================================\n",
      "├─Sequential: 1-1                        [-1, 16, 120, 120]        --\n",
      "|    └─Conv2d: 2-1                       [-1, 16, 240, 240]        2,368\n",
      "|    └─ReLU: 2-2                         [-1, 16, 240, 240]        --\n",
      "|    └─MaxPool2d: 2-3                    [-1, 16, 120, 120]        --\n",
      "├─Sequential: 1-2                        [-1, 32, 60, 60]          --\n",
      "|    └─Conv2d: 2-4                       [-1, 32, 120, 120]        25,120\n",
      "|    └─ReLU: 2-5                         [-1, 32, 120, 120]        --\n",
      "|    └─MaxPool2d: 2-6                    [-1, 32, 60, 60]          --\n",
      "├─Conv2d: 1-3                            [-1, 64, 30, 30]          18,496\n",
      "├─Sequential: 1-4                        [-1, 32, 60, 60]          --\n",
      "|    └─ConvTranspose2d: 2-7              [-1, 32, 60, 60]          8,224\n",
      "|    └─ReLU: 2-8                         [-1, 32, 60, 60]          --\n",
      "├─Sequential: 1-5                        [-1, 32, 60, 60]          --\n",
      "|    └─Conv2d: 2-9                       [-1, 32, 60, 60]          100,384\n",
      "|    └─ReLU: 2-10                        [-1, 32, 60, 60]          --\n",
      "├─Sequential: 1-6                        [-1, 16, 120, 120]        --\n",
      "|    └─ConvTranspose2d: 2-11             [-1, 16, 120, 120]        2,064\n",
      "|    └─ReLU: 2-12                        [-1, 16, 120, 120]        --\n",
      "├─Sequential: 1-7                        [-1, 16, 120, 120]        --\n",
      "|    └─Conv2d: 2-13                      [-1, 16, 120, 120]        25,104\n",
      "|    └─ReLU: 2-14                        [-1, 16, 120, 120]        --\n",
      "├─Sequential: 1-8                        [-1, 16, 240, 240]        --\n",
      "|    └─ConvTranspose2d: 2-15             [-1, 16, 240, 240]        1,040\n",
      "|    └─ReLU: 2-16                        [-1, 16, 240, 240]        --\n",
      "├─Conv2d: 1-9                            [-1, 1, 240, 240]         17\n",
      "==========================================================================================\n",
      "Total params: 182,817\n",
      "Trainable params: 182,817\n",
      "Non-trainable params: 0\n",
      "Total mult-adds (G): 1.35\n",
      "==========================================================================================\n",
      "Input size (MB): 0.66\n",
      "Forward/backward pass size (MB): 23.73\n",
      "Params size (MB): 0.70\n",
      "Estimated Total Size (MB): 25.09\n",
      "==========================================================================================\n"
     ]
    },
    {
     "data": {
      "text/plain": [
       "==========================================================================================\n",
       "Layer (type:depth-idx)                   Output Shape              Param #\n",
       "==========================================================================================\n",
       "├─Sequential: 1-1                        [-1, 16, 120, 120]        --\n",
       "|    └─Conv2d: 2-1                       [-1, 16, 240, 240]        2,368\n",
       "|    └─ReLU: 2-2                         [-1, 16, 240, 240]        --\n",
       "|    └─MaxPool2d: 2-3                    [-1, 16, 120, 120]        --\n",
       "├─Sequential: 1-2                        [-1, 32, 60, 60]          --\n",
       "|    └─Conv2d: 2-4                       [-1, 32, 120, 120]        25,120\n",
       "|    └─ReLU: 2-5                         [-1, 32, 120, 120]        --\n",
       "|    └─MaxPool2d: 2-6                    [-1, 32, 60, 60]          --\n",
       "├─Conv2d: 1-3                            [-1, 64, 30, 30]          18,496\n",
       "├─Sequential: 1-4                        [-1, 32, 60, 60]          --\n",
       "|    └─ConvTranspose2d: 2-7              [-1, 32, 60, 60]          8,224\n",
       "|    └─ReLU: 2-8                         [-1, 32, 60, 60]          --\n",
       "├─Sequential: 1-5                        [-1, 32, 60, 60]          --\n",
       "|    └─Conv2d: 2-9                       [-1, 32, 60, 60]          100,384\n",
       "|    └─ReLU: 2-10                        [-1, 32, 60, 60]          --\n",
       "├─Sequential: 1-6                        [-1, 16, 120, 120]        --\n",
       "|    └─ConvTranspose2d: 2-11             [-1, 16, 120, 120]        2,064\n",
       "|    └─ReLU: 2-12                        [-1, 16, 120, 120]        --\n",
       "├─Sequential: 1-7                        [-1, 16, 120, 120]        --\n",
       "|    └─Conv2d: 2-13                      [-1, 16, 120, 120]        25,104\n",
       "|    └─ReLU: 2-14                        [-1, 16, 120, 120]        --\n",
       "├─Sequential: 1-8                        [-1, 16, 240, 240]        --\n",
       "|    └─ConvTranspose2d: 2-15             [-1, 16, 240, 240]        1,040\n",
       "|    └─ReLU: 2-16                        [-1, 16, 240, 240]        --\n",
       "├─Conv2d: 1-9                            [-1, 1, 240, 240]         17\n",
       "==========================================================================================\n",
       "Total params: 182,817\n",
       "Trainable params: 182,817\n",
       "Non-trainable params: 0\n",
       "Total mult-adds (G): 1.35\n",
       "==========================================================================================\n",
       "Input size (MB): 0.66\n",
       "Forward/backward pass size (MB): 23.73\n",
       "Params size (MB): 0.70\n",
       "Estimated Total Size (MB): 25.09\n",
       "=========================================================================================="
      ]
     },
     "execution_count": 22,
     "metadata": {},
     "output_type": "execute_result"
    }
   ],
   "source": [
    "unet = UNet(\n",
    "    in_channels=3,\n",
    "    n_kernels=[\n",
    "        arch_description[\"layer1\"][\"conv\"][\"noutput_channels\"],\n",
    "        arch_description[\"layer2\"][\"conv\"][\"noutput_channels\"],\n",
    "    ],\n",
    "    kernel_sizes=[\n",
    "        arch_description[\"layer1\"][\"conv\"][\"kernel_size\"][0],\n",
    "        arch_description[\"layer2\"][\"conv\"][\"kernel_size\"][0]\n",
    "    ],\n",
    "    bottleneck_size=3,\n",
    "    activations_path=DATA_PATH / Path(\"exper/FLIM_Frozen_Encoder\")\n",
    ").to(DEVICE)\n",
    "\n",
    "load_FLIM_encoder(\n",
    "    model=unet,\n",
    "    arch_json=ARCH_JSON,\n",
    "    weights_path=WEIGHTS_PATH,\n",
    "    channels=[\n",
    "        3,\n",
    "        arch_description[\"layer1\"][\"conv\"][\"noutput_channels\"],\n",
    "        arch_description[\"layer2\"][\"conv\"][\"noutput_channels\"],\n",
    "    ] # [Input Channels, Kernels Layer 1, Kernels Layer 2, ....]\n",
    ")\n",
    "\n",
    "summary(unet, (3,240,240))"
   ]
  },
  {
   "cell_type": "markdown",
   "metadata": {},
   "source": [
    "Then, we first train our model without updating the FLIM-Encoder."
   ]
  },
  {
   "cell_type": "code",
   "execution_count": 23,
   "metadata": {
    "tags": []
   },
   "outputs": [
    {
     "name": "stdout",
     "output_type": "stream",
     "text": [
      "EPOCH: 1.000  trn_loss: 0.352  trn_accuracy: 0.866  (0.58s - 56.97s remaining)\n",
      "EPOCH: 2.000  trn_loss: 0.059  trn_accuracy: 0.987  (1.02s - 50.17s remaining)\n",
      "EPOCH: 3.000  trn_loss: 0.039  trn_accuracy: 0.990  (1.47s - 47.54s remaining)\n",
      "EPOCH: 4.000  trn_loss: 0.032  trn_accuracy: 0.990  (1.92s - 46.05s remaining)\n",
      "EPOCH: 5.000  trn_loss: 0.030  trn_accuracy: 0.991  (2.36s - 44.93s remaining)\n",
      "EPOCH: 6.000  trn_loss: 0.024  trn_accuracy: 0.992  (2.83s - 44.34s remaining)\n",
      "EPOCH: 7.000  trn_loss: 0.022  trn_accuracy: 0.993  (3.28s - 43.57s remaining)\n",
      "EPOCH: 8.000  trn_loss: 0.021  trn_accuracy: 0.993  (3.74s - 42.98s remaining)\n",
      "EPOCH: 9.000  trn_loss: 0.021  trn_accuracy: 0.992  (4.18s - 42.29s remaining)\n",
      "EPOCH: 10.000  trn_loss: 0.020  trn_accuracy: 0.993  (4.63s - 41.69s remaining)\n",
      "EPOCH: 11.000  trn_loss: 0.019  trn_accuracy: 0.993  (5.08s - 41.09s remaining)\n",
      "EPOCH: 12.000  trn_loss: 0.020  trn_accuracy: 0.993  (5.53s - 40.53s remaining)\n",
      "EPOCH: 13.000  trn_loss: 0.019  trn_accuracy: 0.993  (5.99s - 40.07s remaining)\n",
      "EPOCH: 14.000  trn_loss: 0.018  trn_accuracy: 0.993  (6.43s - 39.50s remaining)\n",
      "EPOCH: 15.000  trn_loss: 0.019  trn_accuracy: 0.993  (6.88s - 38.99s remaining)\n",
      "EPOCH: 16.000  trn_loss: 0.018  trn_accuracy: 0.993  (7.32s - 38.45s remaining)\n",
      "EPOCH: 17.000  trn_loss: 0.018  trn_accuracy: 0.993  (7.77s - 37.94s remaining)\n",
      "EPOCH: 18.000  trn_loss: 0.017  trn_accuracy: 0.993  (8.22s - 37.45s remaining)\n",
      "EPOCH: 19.000  trn_loss: 0.016  trn_accuracy: 0.994  (8.68s - 37.00s remaining)\n",
      "EPOCH: 20.000  trn_loss: 0.017  trn_accuracy: 0.993  (9.13s - 36.51s remaining)\n",
      "EPOCH: 21.000  trn_loss: 0.017  trn_accuracy: 0.993  (9.58s - 36.05s remaining)\n",
      "EPOCH: 22.000  trn_loss: 0.016  trn_accuracy: 0.994  (10.04s - 35.58s remaining)\n",
      "EPOCH: 23.000  trn_loss: 0.016  trn_accuracy: 0.994  (10.48s - 35.09s remaining)\n",
      "EPOCH: 24.000  trn_loss: 0.015  trn_accuracy: 0.994  (10.94s - 34.63s remaining)\n",
      "EPOCH: 25.000  trn_loss: 0.015  trn_accuracy: 0.994  (11.38s - 34.14s remaining)\n",
      "EPOCH: 26.000  trn_loss: 0.015  trn_accuracy: 0.994  (11.84s - 33.69s remaining)\n",
      "EPOCH: 27.000  trn_loss: 0.014  trn_accuracy: 0.994  (12.30s - 33.24s remaining)\n",
      "EPOCH: 28.000  trn_loss: 0.014  trn_accuracy: 0.994  (12.74s - 32.76s remaining)\n",
      "EPOCH: 29.000  trn_loss: 0.014  trn_accuracy: 0.994  (13.19s - 32.28s remaining)\n",
      "EPOCH: 30.000  trn_loss: 0.014  trn_accuracy: 0.994  (13.64s - 31.82s remaining)\n",
      "EPOCH: 31.000  trn_loss: 0.014  trn_accuracy: 0.994  (14.08s - 31.35s remaining)\n",
      "EPOCH: 32.000  trn_loss: 0.013  trn_accuracy: 0.994  (14.53s - 30.87s remaining)\n",
      "EPOCH: 33.000  trn_loss: 0.013  trn_accuracy: 0.995  (14.98s - 30.41s remaining)\n",
      "EPOCH: 34.000  trn_loss: 0.013  trn_accuracy: 0.995  (15.43s - 29.96s remaining)\n",
      "EPOCH: 35.000  trn_loss: 0.013  trn_accuracy: 0.995  (15.88s - 29.50s remaining)\n",
      "EPOCH: 36.000  trn_loss: 0.011  trn_accuracy: 0.996  (16.33s - 29.03s remaining)\n",
      "EPOCH: 37.000  trn_loss: 0.015  trn_accuracy: 0.995  (16.77s - 28.56s remaining)\n",
      "EPOCH: 38.000  trn_loss: 0.013  trn_accuracy: 0.995  (17.22s - 28.09s remaining)\n",
      "EPOCH: 39.000  trn_loss: 0.013  trn_accuracy: 0.995  (17.66s - 27.62s remaining)\n",
      "EPOCH: 40.000  trn_loss: 0.012  trn_accuracy: 0.995  (18.14s - 27.21s remaining)\n",
      "EPOCH: 41.000  trn_loss: 0.011  trn_accuracy: 0.996  (18.60s - 26.76s remaining)\n",
      "EPOCH: 42.000  trn_loss: 0.012  trn_accuracy: 0.995  (19.04s - 26.29s remaining)\n",
      "EPOCH: 43.000  trn_loss: 0.012  trn_accuracy: 0.995  (19.48s - 25.83s remaining)\n",
      "EPOCH: 44.000  trn_loss: 0.011  trn_accuracy: 0.996  (19.93s - 25.36s remaining)\n",
      "EPOCH: 45.000  trn_loss: 0.013  trn_accuracy: 0.995  (20.37s - 24.90s remaining)\n",
      "EPOCH: 46.000  trn_loss: 0.011  trn_accuracy: 0.995  (20.82s - 24.44s remaining)\n",
      "EPOCH: 47.000  trn_loss: 0.011  trn_accuracy: 0.996  (21.27s - 23.98s remaining)\n",
      "EPOCH: 48.000  trn_loss: 0.013  trn_accuracy: 0.995  (21.72s - 23.53s remaining)\n",
      "EPOCH: 49.000  trn_loss: 0.011  trn_accuracy: 0.996  (22.18s - 23.09s remaining)\n",
      "EPOCH: 50.000  trn_loss: 0.011  trn_accuracy: 0.996  (22.63s - 22.63s remaining)\n",
      "EPOCH: 51.000  trn_loss: 0.011  trn_accuracy: 0.995  (23.09s - 22.19s remaining)\n",
      "EPOCH: 52.000  trn_loss: 0.011  trn_accuracy: 0.996  (23.57s - 21.75s remaining)\n",
      "EPOCH: 53.000  trn_loss: 0.011  trn_accuracy: 0.996  (24.07s - 21.35s remaining)\n",
      "EPOCH: 54.000  trn_loss: 0.011  trn_accuracy: 0.996  (24.64s - 20.99s remaining)\n",
      "EPOCH: 55.000  trn_loss: 0.010  trn_accuracy: 0.996  (25.15s - 20.58s remaining)\n",
      "EPOCH: 56.000  trn_loss: 0.010  trn_accuracy: 0.996  (25.60s - 20.12s remaining)\n",
      "EPOCH: 57.000  trn_loss: 0.010  trn_accuracy: 0.996  (26.05s - 19.65s remaining)\n",
      "EPOCH: 58.000  trn_loss: 0.010  trn_accuracy: 0.996  (26.50s - 19.19s remaining)\n",
      "EPOCH: 59.000  trn_loss: 0.009  trn_accuracy: 0.997  (26.97s - 18.74s remaining)\n",
      "EPOCH: 60.000  trn_loss: 0.009  trn_accuracy: 0.996  (27.42s - 18.28s remaining)\n",
      "EPOCH: 61.000  trn_loss: 0.009  trn_accuracy: 0.996  (27.89s - 17.83s remaining)\n",
      "EPOCH: 62.000  trn_loss: 0.008  trn_accuracy: 0.997  (28.33s - 17.37s remaining)\n",
      "EPOCH: 63.000  trn_loss: 0.007  trn_accuracy: 0.997  (28.78s - 16.90s remaining)\n",
      "EPOCH: 64.000  trn_loss: 0.008  trn_accuracy: 0.997  (29.23s - 16.44s remaining)\n",
      "EPOCH: 65.000  trn_loss: 0.009  trn_accuracy: 0.997  (29.67s - 15.98s remaining)\n",
      "EPOCH: 66.000  trn_loss: 0.007  trn_accuracy: 0.997  (30.12s - 15.52s remaining)\n",
      "EPOCH: 67.000  trn_loss: 0.007  trn_accuracy: 0.998  (30.58s - 15.06s remaining)\n",
      "EPOCH: 68.000  trn_loss: 0.007  trn_accuracy: 0.997  (31.04s - 14.61s remaining)\n",
      "EPOCH: 69.000  trn_loss: 0.007  trn_accuracy: 0.997  (31.49s - 14.15s remaining)\n",
      "EPOCH: 70.000  trn_loss: 0.007  trn_accuracy: 0.998  (31.93s - 13.69s remaining)\n",
      "EPOCH: 71.000  trn_loss: 0.006  trn_accuracy: 0.998  (32.38s - 13.23s remaining)\n",
      "EPOCH: 72.000  trn_loss: 0.008  trn_accuracy: 0.997  (32.83s - 12.77s remaining)\n",
      "EPOCH: 73.000  trn_loss: 0.007  trn_accuracy: 0.997  (33.29s - 12.31s remaining)\n",
      "EPOCH: 74.000  trn_loss: 0.007  trn_accuracy: 0.997  (33.74s - 11.86s remaining)\n",
      "EPOCH: 75.000  trn_loss: 0.007  trn_accuracy: 0.997  (34.19s - 11.40s remaining)\n",
      "EPOCH: 76.000  trn_loss: 0.010  trn_accuracy: 0.996  (34.64s - 10.94s remaining)\n",
      "EPOCH: 77.000  trn_loss: 0.012  trn_accuracy: 0.996  (35.09s - 10.48s remaining)\n",
      "EPOCH: 78.000  trn_loss: 0.010  trn_accuracy: 0.996  (35.53s - 10.02s remaining)\n",
      "EPOCH: 79.000  trn_loss: 0.010  trn_accuracy: 0.996  (36.05s - 9.58s remaining)\n",
      "EPOCH: 80.000  trn_loss: 0.009  trn_accuracy: 0.997  (36.50s - 9.13s remaining)\n",
      "EPOCH: 81.000  trn_loss: 0.008  trn_accuracy: 0.997  (36.96s - 8.67s remaining)\n",
      "EPOCH: 82.000  trn_loss: 0.007  trn_accuracy: 0.997  (37.41s - 8.21s remaining)\n",
      "EPOCH: 83.000  trn_loss: 0.007  trn_accuracy: 0.997  (37.86s - 7.75s remaining)\n",
      "EPOCH: 84.000  trn_loss: 0.006  trn_accuracy: 0.998  (38.30s - 7.29s remaining)\n",
      "EPOCH: 85.000  trn_loss: 0.006  trn_accuracy: 0.998  (38.75s - 6.84s remaining)\n",
      "EPOCH: 86.000  trn_loss: 0.006  trn_accuracy: 0.998  (39.20s - 6.38s remaining)\n",
      "EPOCH: 87.000  trn_loss: 0.006  trn_accuracy: 0.998  (39.65s - 5.93s remaining)\n",
      "EPOCH: 88.000  trn_loss: 0.005  trn_accuracy: 0.998  (40.10s - 5.47s remaining)\n",
      "EPOCH: 89.000  trn_loss: 0.005  trn_accuracy: 0.998  (40.55s - 5.01s remaining)\n",
      "EPOCH: 90.000  trn_loss: 0.005  trn_accuracy: 0.998  (40.99s - 4.55s remaining)\n",
      "EPOCH: 91.000  trn_loss: 0.005  trn_accuracy: 0.998  (41.45s - 4.10s remaining)\n",
      "EPOCH: 92.000  trn_loss: 0.005  trn_accuracy: 0.998  (41.90s - 3.64s remaining)\n",
      "EPOCH: 93.000  trn_loss: 0.005  trn_accuracy: 0.998  (42.36s - 3.19s remaining)\n",
      "EPOCH: 94.000  trn_loss: 0.005  trn_accuracy: 0.998  (42.81s - 2.73s remaining)\n",
      "EPOCH: 95.000  trn_loss: 0.004  trn_accuracy: 0.998  (43.25s - 2.28s remaining)\n",
      "EPOCH: 96.000  trn_loss: 0.004  trn_accuracy: 0.998  (43.70s - 1.82s remaining)\n",
      "EPOCH: 97.000  trn_loss: 0.004  trn_accuracy: 0.998  (44.14s - 1.37s remaining)\n",
      "EPOCH: 98.000  trn_loss: 0.004  trn_accuracy: 0.998  (44.59s - 0.91s remaining)\n",
      "EPOCH: 99.000  trn_loss: 0.004  trn_accuracy: 0.998  (45.04s - 0.45s remaining)\n",
      "EPOCH: 100.000  trn_loss: 0.004  trn_accuracy: 0.998  (45.49s - 0.00s remaining)\n",
      "[INFO] Saving activations!\n"
     ]
    },
    {
     "name": "stderr",
     "output_type": "stream",
     "text": [
      "100%|███████████████████████████████████████████| 76/76 [00:11<00:00,  6.79it/s]\n",
      "100%|██████████████████████████████████████| 201/201 [00:00<00:00, 66397.98it/s]\n",
      "100%|██████████████████████████████████████| 201/201 [00:00<00:00, 94217.16it/s]\n"
     ]
    },
    {
     "data": {
      "image/png": "[encoded data removed]",
      "text/plain": [
       "<Figure size 800x600 with 1 Axes>"
      ]
     },
     "metadata": {},
     "output_type": "display_data"
    },
    {
     "data": {
      "image/png": "[encoded data removed]",
      "text/plain": [
       "<Figure size 800x600 with 1 Axes>"
      ]
     },
     "metadata": {},
     "output_type": "display_data"
    }
   ],
   "source": [
    "train_loop(\n",
    "    epochs=100,\n",
    "    model=unet,\n",
    "    dataloader=train_dataloader,\n",
    "    lr=1e-3,\n",
    "    loss_function=loss_fuctions[\"bce\"],\n",
    "    freeze_encoder=True,\n",
    "    use_lr_scheduler=False\n",
    ")"
   ]
  },
  {
   "cell_type": "markdown",
   "metadata": {},
   "source": [
    "Now, we run our testing method (`predict_and_evaluate`) for the trained model, using the training and testing data."
   ]
  },
  {
   "cell_type": "code",
   "execution_count": 24,
   "metadata": {
    "tags": []
   },
   "outputs": [
    {
     "name": "stdout",
     "output_type": "stream",
     "text": [
      "[INFO] Training Metrics\n"
     ]
    },
    {
     "name": "stderr",
     "output_type": "stream",
     "text": [
      "76it [00:00, 118.31it/s]"
     ]
    },
    {
     "name": "stdout",
     "output_type": "stream",
     "text": [
      "[INFO] Avg Accuracy: 0.998526394367218 +/- 0.0014491750625893474\n",
      "[INFO] Avg Dice: 0.9131492225915918 +/- 0.21784962681118267\n",
      "[INFO] Avg IoU: 0.8833378106355667 +/- 0.2173088826019973\n"
     ]
    },
    {
     "name": "stderr",
     "output_type": "stream",
     "text": [
      "\n"
     ]
    }
   ],
   "source": [
    "print(\"[INFO] Training Metrics\")\n",
    "predict_and_evaluate(model=unet, data_loader=train_dataloader)"
   ]
  },
  {
   "cell_type": "code",
   "execution_count": 25,
   "metadata": {
    "tags": []
   },
   "outputs": [
    {
     "name": "stdout",
     "output_type": "stream",
     "text": [
      "[INFO] Test Metrics\n"
     ]
    },
    {
     "name": "stderr",
     "output_type": "stream",
     "text": [
      "20it [00:00, 113.65it/s]"
     ]
    },
    {
     "name": "stdout",
     "output_type": "stream",
     "text": [
      "[INFO] Avg Accuracy: 0.9953967332839966 +/- 0.0059868041425943375\n",
      "[INFO] Avg Dice: 0.7528357735416596 +/- 0.335617961458386\n",
      "[INFO] Avg IoU: 0.6987495854496956 +/- 0.35830899211047695\n"
     ]
    },
    {
     "name": "stderr",
     "output_type": "stream",
     "text": [
      "\n"
     ]
    }
   ],
   "source": [
    "print(\"[INFO] Test Metrics\")\n",
    "predict_and_evaluate(model=unet, data_loader=test_dataloader)"
   ]
  },
  {
   "cell_type": "markdown",
   "metadata": {},
   "source": [
    "____"
   ]
  },
  {
   "cell_type": "markdown",
   "metadata": {},
   "source": [
    "Now, we define a new model and also load FLIM weights."
   ]
  },
  {
   "cell_type": "code",
   "execution_count": 26,
   "metadata": {
    "tags": []
   },
   "outputs": [
    {
     "name": "stdout",
     "output_type": "stream",
     "text": [
      "[INFO] Loading FLIM Encoder\n",
      "[INFO] Loading Layer 1 weights\n",
      "[INFO] Loading Layer 2 weights\n"
     ]
    }
   ],
   "source": [
    "unet = UNet(\n",
    "    in_channels=3,\n",
    "    n_kernels=[\n",
    "        arch_description[\"layer1\"][\"conv\"][\"noutput_channels\"],\n",
    "        arch_description[\"layer2\"][\"conv\"][\"noutput_channels\"],\n",
    "    ],\n",
    "    kernel_sizes=[\n",
    "        arch_description[\"layer1\"][\"conv\"][\"kernel_size\"][0],\n",
    "        arch_description[\"layer2\"][\"conv\"][\"kernel_size\"][0], \n",
    "    ],\n",
    "    bottleneck_size=3,\n",
    "    activations_path=DATA_PATH / Path(\"exper/FLIM_Unfrozen_Encoder\")\n",
    ").to(DEVICE)\n",
    "\n",
    "load_FLIM_encoder(\n",
    "    model=unet,\n",
    "    arch_json=ARCH_JSON,\n",
    "    weights_path=WEIGHTS_PATH,\n",
    "    channels=[\n",
    "        3,\n",
    "        arch_description[\"layer1\"][\"conv\"][\"noutput_channels\"],\n",
    "        arch_description[\"layer2\"][\"conv\"][\"noutput_channels\"],\n",
    "    ] # [Input Channels, Kernels Layer 1, Kernels Layer 2, ....]\n",
    ")"
   ]
  },
  {
   "cell_type": "markdown",
   "metadata": {},
   "source": [
    "However, now, we will allow to fine-tune the encoder."
   ]
  },
  {
   "cell_type": "code",
   "execution_count": 27,
   "metadata": {
    "tags": []
   },
   "outputs": [
    {
     "name": "stdout",
     "output_type": "stream",
     "text": [
      "EPOCH: 1.000  trn_loss: 0.928  trn_accuracy: 0.536  (0.47s - 46.87s remaining)\n",
      "EPOCH: 2.000  trn_loss: 0.372  trn_accuracy: 0.850  (0.92s - 45.18s remaining)\n",
      "EPOCH: 3.000  trn_loss: 0.191  trn_accuracy: 0.956  (1.46s - 47.05s remaining)\n",
      "EPOCH: 4.000  trn_loss: 0.092  trn_accuracy: 0.985  (1.97s - 47.18s remaining)\n",
      "EPOCH: 5.000  trn_loss: 0.056  trn_accuracy: 0.988  (2.42s - 46.01s remaining)\n",
      "EPOCH: 6.000  trn_loss: 0.045  trn_accuracy: 0.988  (2.90s - 45.46s remaining)\n",
      "EPOCH: 7.000  trn_loss: 0.038  trn_accuracy: 0.989  (3.35s - 44.55s remaining)\n",
      "EPOCH: 8.000  trn_loss: 0.033  trn_accuracy: 0.990  (3.80s - 43.75s remaining)\n",
      "EPOCH: 9.000  trn_loss: 0.030  trn_accuracy: 0.990  (4.28s - 43.28s remaining)\n",
      "EPOCH: 10.000  trn_loss: 0.026  trn_accuracy: 0.991  (4.75s - 42.75s remaining)\n",
      "EPOCH: 11.000  trn_loss: 0.025  trn_accuracy: 0.991  (5.21s - 42.11s remaining)\n",
      "EPOCH: 12.000  trn_loss: 0.024  trn_accuracy: 0.991  (5.66s - 41.47s remaining)\n",
      "EPOCH: 13.000  trn_loss: 0.023  trn_accuracy: 0.993  (6.11s - 40.86s remaining)\n",
      "EPOCH: 14.000  trn_loss: 0.023  trn_accuracy: 0.991  (6.56s - 40.27s remaining)\n",
      "EPOCH: 15.000  trn_loss: 0.020  trn_accuracy: 0.993  (7.01s - 39.73s remaining)\n",
      "EPOCH: 16.000  trn_loss: 0.020  trn_accuracy: 0.993  (7.49s - 39.35s remaining)\n",
      "EPOCH: 17.000  trn_loss: 0.020  trn_accuracy: 0.993  (7.94s - 38.77s remaining)\n",
      "EPOCH: 18.000  trn_loss: 0.019  trn_accuracy: 0.993  (8.39s - 38.22s remaining)\n",
      "EPOCH: 19.000  trn_loss: 0.018  trn_accuracy: 0.993  (8.84s - 37.71s remaining)\n",
      "EPOCH: 20.000  trn_loss: 0.018  trn_accuracy: 0.993  (9.30s - 37.21s remaining)\n",
      "EPOCH: 21.000  trn_loss: 0.018  trn_accuracy: 0.993  (9.77s - 36.74s remaining)\n",
      "EPOCH: 22.000  trn_loss: 0.017  trn_accuracy: 0.994  (10.23s - 36.26s remaining)\n",
      "EPOCH: 23.000  trn_loss: 0.017  trn_accuracy: 0.993  (10.69s - 35.79s remaining)\n",
      "EPOCH: 24.000  trn_loss: 0.017  trn_accuracy: 0.994  (11.15s - 35.31s remaining)\n",
      "EPOCH: 25.000  trn_loss: 0.016  trn_accuracy: 0.994  (11.61s - 34.83s remaining)\n",
      "EPOCH: 26.000  trn_loss: 0.015  trn_accuracy: 0.994  (12.07s - 34.37s remaining)\n",
      "EPOCH: 27.000  trn_loss: 0.016  trn_accuracy: 0.994  (12.54s - 33.89s remaining)\n",
      "EPOCH: 28.000  trn_loss: 0.015  trn_accuracy: 0.994  (13.00s - 33.44s remaining)\n",
      "EPOCH: 29.000  trn_loss: 0.014  trn_accuracy: 0.995  (13.47s - 32.97s remaining)\n",
      "EPOCH: 30.000  trn_loss: 0.014  trn_accuracy: 0.994  (13.92s - 32.48s remaining)\n",
      "EPOCH: 31.000  trn_loss: 0.017  trn_accuracy: 0.994  (14.38s - 32.02s remaining)\n",
      "EPOCH: 32.000  trn_loss: 0.015  trn_accuracy: 0.994  (14.83s - 31.52s remaining)\n",
      "EPOCH: 33.000  trn_loss: 0.014  trn_accuracy: 0.995  (15.31s - 31.08s remaining)\n",
      "EPOCH: 34.000  trn_loss: 0.014  trn_accuracy: 0.995  (15.76s - 30.60s remaining)\n",
      "EPOCH: 35.000  trn_loss: 0.014  trn_accuracy: 0.995  (16.21s - 30.11s remaining)\n",
      "EPOCH: 36.000  trn_loss: 0.016  trn_accuracy: 0.994  (16.66s - 29.62s remaining)\n",
      "EPOCH: 37.000  trn_loss: 0.012  trn_accuracy: 0.995  (17.11s - 29.14s remaining)\n",
      "EPOCH: 38.000  trn_loss: 0.012  trn_accuracy: 0.996  (17.56s - 28.66s remaining)\n",
      "EPOCH: 39.000  trn_loss: 0.012  trn_accuracy: 0.995  (18.02s - 28.18s remaining)\n",
      "EPOCH: 40.000  trn_loss: 0.012  trn_accuracy: 0.995  (18.48s - 27.71s remaining)\n",
      "EPOCH: 41.000  trn_loss: 0.010  trn_accuracy: 0.996  (18.94s - 27.25s remaining)\n",
      "EPOCH: 42.000  trn_loss: 0.010  trn_accuracy: 0.996  (19.40s - 26.79s remaining)\n",
      "EPOCH: 43.000  trn_loss: 0.011  trn_accuracy: 0.996  (19.86s - 26.32s remaining)\n",
      "EPOCH: 44.000  trn_loss: 0.012  trn_accuracy: 0.995  (20.32s - 25.86s remaining)\n",
      "EPOCH: 45.000  trn_loss: 0.012  trn_accuracy: 0.995  (20.78s - 25.40s remaining)\n",
      "EPOCH: 46.000  trn_loss: 0.010  trn_accuracy: 0.996  (21.24s - 24.94s remaining)\n",
      "EPOCH: 47.000  trn_loss: 0.009  trn_accuracy: 0.996  (21.74s - 24.52s remaining)\n",
      "EPOCH: 48.000  trn_loss: 0.009  trn_accuracy: 0.997  (22.20s - 24.05s remaining)\n",
      "EPOCH: 49.000  trn_loss: 0.010  trn_accuracy: 0.996  (22.66s - 23.58s remaining)\n",
      "EPOCH: 50.000  trn_loss: 0.010  trn_accuracy: 0.996  (23.12s - 23.12s remaining)\n",
      "EPOCH: 51.000  trn_loss: 0.010  trn_accuracy: 0.996  (23.59s - 22.66s remaining)\n",
      "EPOCH: 52.000  trn_loss: 0.009  trn_accuracy: 0.997  (24.07s - 22.22s remaining)\n",
      "EPOCH: 53.000  trn_loss: 0.007  trn_accuracy: 0.997  (24.54s - 21.76s remaining)\n",
      "EPOCH: 54.000  trn_loss: 0.007  trn_accuracy: 0.997  (25.02s - 21.31s remaining)\n",
      "EPOCH: 55.000  trn_loss: 0.007  trn_accuracy: 0.997  (25.48s - 20.85s remaining)\n",
      "EPOCH: 56.000  trn_loss: 0.007  trn_accuracy: 0.997  (25.95s - 20.39s remaining)\n",
      "EPOCH: 57.000  trn_loss: 0.010  trn_accuracy: 0.996  (26.40s - 19.92s remaining)\n",
      "EPOCH: 58.000  trn_loss: 0.008  trn_accuracy: 0.997  (26.87s - 19.46s remaining)\n",
      "EPOCH: 59.000  trn_loss: 0.008  trn_accuracy: 0.997  (27.32s - 18.99s remaining)\n",
      "EPOCH: 60.000  trn_loss: 0.008  trn_accuracy: 0.997  (27.77s - 18.51s remaining)\n",
      "EPOCH: 61.000  trn_loss: 0.011  trn_accuracy: 0.996  (28.22s - 18.04s remaining)\n",
      "EPOCH: 62.000  trn_loss: 0.010  trn_accuracy: 0.996  (28.67s - 17.57s remaining)\n",
      "EPOCH: 63.000  trn_loss: 0.008  trn_accuracy: 0.997  (29.14s - 17.11s remaining)\n",
      "EPOCH: 64.000  trn_loss: 0.007  trn_accuracy: 0.998  (29.61s - 16.65s remaining)\n",
      "EPOCH: 65.000  trn_loss: 0.006  trn_accuracy: 0.998  (30.07s - 16.19s remaining)\n",
      "EPOCH: 66.000  trn_loss: 0.006  trn_accuracy: 0.998  (30.52s - 15.72s remaining)\n",
      "EPOCH: 67.000  trn_loss: 0.005  trn_accuracy: 0.998  (30.98s - 15.26s remaining)\n",
      "EPOCH: 68.000  trn_loss: 0.006  trn_accuracy: 0.998  (31.43s - 14.79s remaining)\n",
      "EPOCH: 69.000  trn_loss: 0.006  trn_accuracy: 0.998  (31.90s - 14.33s remaining)\n",
      "EPOCH: 70.000  trn_loss: 0.005  trn_accuracy: 0.998  (32.36s - 13.87s remaining)\n",
      "EPOCH: 71.000  trn_loss: 0.005  trn_accuracy: 0.998  (32.83s - 13.41s remaining)\n",
      "EPOCH: 72.000  trn_loss: 0.005  trn_accuracy: 0.998  (33.29s - 12.95s remaining)\n",
      "EPOCH: 73.000  trn_loss: 0.005  trn_accuracy: 0.998  (33.75s - 12.48s remaining)\n",
      "EPOCH: 74.000  trn_loss: 0.006  trn_accuracy: 0.998  (34.20s - 12.02s remaining)\n",
      "EPOCH: 75.000  trn_loss: 0.006  trn_accuracy: 0.998  (34.67s - 11.56s remaining)\n",
      "EPOCH: 76.000  trn_loss: 0.006  trn_accuracy: 0.998  (35.12s - 11.09s remaining)\n",
      "EPOCH: 77.000  trn_loss: 0.004  trn_accuracy: 0.998  (35.58s - 10.63s remaining)\n",
      "EPOCH: 78.000  trn_loss: 0.004  trn_accuracy: 0.998  (36.05s - 10.17s remaining)\n",
      "EPOCH: 79.000  trn_loss: 0.004  trn_accuracy: 0.999  (36.50s - 9.70s remaining)\n",
      "EPOCH: 80.000  trn_loss: 0.004  trn_accuracy: 0.999  (36.95s - 9.24s remaining)\n",
      "EPOCH: 81.000  trn_loss: 0.004  trn_accuracy: 0.999  (37.41s - 8.77s remaining)\n",
      "EPOCH: 82.000  trn_loss: 0.003  trn_accuracy: 0.999  (37.87s - 8.31s remaining)\n",
      "EPOCH: 83.000  trn_loss: 0.003  trn_accuracy: 0.999  (38.34s - 7.85s remaining)\n",
      "EPOCH: 84.000  trn_loss: 0.003  trn_accuracy: 0.999  (38.79s - 7.39s remaining)\n",
      "EPOCH: 85.000  trn_loss: 0.003  trn_accuracy: 0.999  (39.25s - 6.93s remaining)\n",
      "EPOCH: 86.000  trn_loss: 0.003  trn_accuracy: 0.999  (39.71s - 6.47s remaining)\n",
      "EPOCH: 87.000  trn_loss: 0.003  trn_accuracy: 0.999  (40.17s - 6.00s remaining)\n",
      "EPOCH: 88.000  trn_loss: 0.003  trn_accuracy: 0.999  (40.63s - 5.54s remaining)\n",
      "EPOCH: 89.000  trn_loss: 0.003  trn_accuracy: 0.999  (41.10s - 5.08s remaining)\n",
      "EPOCH: 90.000  trn_loss: 0.003  trn_accuracy: 0.999  (41.61s - 4.62s remaining)\n",
      "EPOCH: 91.000  trn_loss: 0.003  trn_accuracy: 0.999  (42.08s - 4.16s remaining)\n",
      "EPOCH: 92.000  trn_loss: 0.003  trn_accuracy: 0.999  (42.54s - 3.70s remaining)\n",
      "EPOCH: 93.000  trn_loss: 0.003  trn_accuracy: 0.999  (43.02s - 3.24s remaining)\n",
      "EPOCH: 94.000  trn_loss: 0.003  trn_accuracy: 0.999  (43.48s - 2.78s remaining)\n",
      "EPOCH: 95.000  trn_loss: 0.003  trn_accuracy: 0.999  (43.95s - 2.31s remaining)\n",
      "EPOCH: 96.000  trn_loss: 0.003  trn_accuracy: 0.999  (44.40s - 1.85s remaining)\n",
      "EPOCH: 97.000  trn_loss: 0.003  trn_accuracy: 0.999  (44.86s - 1.39s remaining)\n",
      "EPOCH: 98.000  trn_loss: 0.003  trn_accuracy: 0.999  (45.32s - 0.92s remaining)\n",
      "EPOCH: 99.000  trn_loss: 0.003  trn_accuracy: 0.999  (45.78s - 0.46s remaining)\n",
      "EPOCH: 100.000  trn_loss: 0.002  trn_accuracy: 0.999  (46.25s - 0.00s remaining)\n",
      "[INFO] Saving activations!\n"
     ]
    },
    {
     "name": "stderr",
     "output_type": "stream",
     "text": [
      "100%|███████████████████████████████████████████| 76/76 [00:12<00:00,  6.22it/s]\n",
      "100%|██████████████████████████████████████| 201/201 [00:00<00:00, 91249.61it/s]\n",
      "100%|██████████████████████████████████████| 201/201 [00:00<00:00, 97915.81it/s]\n"
     ]
    },
    {
     "data": {
      "image/png": "[encoded data removed]",
      "text/plain": [
       "<Figure size 800x600 with 1 Axes>"
      ]
     },
     "metadata": {},
     "output_type": "display_data"
    },
    {
     "data": {
      "image/png": "[encoded data removed]",
      "text/plain": [
       "<Figure size 800x600 with 1 Axes>"
      ]
     },
     "metadata": {},
     "output_type": "display_data"
    }
   ],
   "source": [
    "train_loop(\n",
    "    epochs=100,\n",
    "    model=unet,\n",
    "    dataloader=train_dataloader,\n",
    "    lr=1e-3,\n",
    "    loss_function=loss_fuctions[\"bce\"],\n",
    "    freeze_encoder=False,\n",
    "    use_lr_scheduler=True,\n",
    "    iters_scheduler=50\n",
    ")"
   ]
  },
  {
   "cell_type": "markdown",
   "metadata": {},
   "source": [
    "Finally, we also benchmark our model:"
   ]
  },
  {
   "cell_type": "code",
   "execution_count": 28,
   "metadata": {
    "tags": []
   },
   "outputs": [
    {
     "name": "stdout",
     "output_type": "stream",
     "text": [
      "[INFO] Training Metrics\n"
     ]
    },
    {
     "name": "stderr",
     "output_type": "stream",
     "text": [
      "76it [00:00, 114.62it/s]"
     ]
    },
    {
     "name": "stdout",
     "output_type": "stream",
     "text": [
      "[INFO] Avg Accuracy: 0.999076247215271 +/- 0.000890417315531522\n",
      "[INFO] Avg Dice: 0.9522344139673101 +/- 0.15792597408536937\n",
      "[INFO] Avg IoU: 0.9325200499672639 +/- 0.1583836696252762\n"
     ]
    },
    {
     "name": "stderr",
     "output_type": "stream",
     "text": [
      "\n"
     ]
    }
   ],
   "source": [
    "print(\"[INFO] Training Metrics\")\n",
    "predict_and_evaluate(model=unet, data_loader=train_dataloader)"
   ]
  },
  {
   "cell_type": "code",
   "execution_count": 29,
   "metadata": {
    "tags": []
   },
   "outputs": [
    {
     "name": "stdout",
     "output_type": "stream",
     "text": [
      "[INFO] Test Metrics\n"
     ]
    },
    {
     "name": "stderr",
     "output_type": "stream",
     "text": [
      "20it [00:00, 106.23it/s]"
     ]
    },
    {
     "name": "stdout",
     "output_type": "stream",
     "text": [
      "[INFO] Avg Accuracy: 0.9944747686386108 +/- 0.007524729240685701\n",
      "[INFO] Avg Dice: 0.653712186726888 +/- 0.40960687923748446\n",
      "[INFO] Avg IoU: 0.6118010335660073 +/- 0.4185937686731534\n"
     ]
    },
    {
     "name": "stderr",
     "output_type": "stream",
     "text": [
      "\n"
     ]
    }
   ],
   "source": [
    "print(\"[INFO] Test Metrics\")\n",
    "predict_and_evaluate(model=unet, data_loader=test_dataloader)"
   ]
  },
  {
   "cell_type": "markdown",
   "metadata": {},
   "source": [
    "Depending on the quality of the image markers, fine-tuning may improve the FLIM-Encoder. However, the learning rate scheduler plays a role in the process. "
   ]
  },
  {
   "cell_type": "markdown",
   "metadata": {},
   "source": [
    "## 10. Run inferences with FLIM-Encoder using an adaptive decoder."
   ]
  },
  {
   "cell_type": "markdown",
   "metadata": {},
   "source": [
    "Here, we will use an adaptive Decoder to segment our parasites."
   ]
  },
  {
   "cell_type": "markdown",
   "metadata": {},
   "source": [
    "First, we define an U-Net model and Load FLIM-Encoder weights:"
   ]
  },
  {
   "cell_type": "code",
   "execution_count": 30,
   "metadata": {
    "tags": []
   },
   "outputs": [
    {
     "name": "stdout",
     "output_type": "stream",
     "text": [
      "[INFO] Loading FLIM Encoder\n",
      "[INFO] Loading Layer 1 weights\n",
      "[INFO] Loading Layer 2 weights\n"
     ]
    }
   ],
   "source": [
    "unet = UNet(\n",
    "    in_channels=3,\n",
    "    n_kernels=[\n",
    "        arch_description[\"layer1\"][\"conv\"][\"noutput_channels\"],\n",
    "        arch_description[\"layer2\"][\"conv\"][\"noutput_channels\"],\n",
    "    ],\n",
    "    kernel_sizes=[\n",
    "        arch_description[\"layer1\"][\"conv\"][\"kernel_size\"][0],\n",
    "        arch_description[\"layer2\"][\"conv\"][\"kernel_size\"][0], \n",
    "    ],\n",
    "    bottleneck_size=3,\n",
    "    activations_path=DATA_PATH / Path(\"exper/FLIM_Adaptive_Decoder\")\n",
    ").to(DEVICE)\n",
    "\n",
    "load_FLIM_encoder(\n",
    "    model=unet,\n",
    "    arch_json=ARCH_JSON,\n",
    "    weights_path=WEIGHTS_PATH,\n",
    "    channels=[\n",
    "        3,\n",
    "        arch_description[\"layer1\"][\"conv\"][\"noutput_channels\"],\n",
    "        arch_description[\"layer2\"][\"conv\"][\"noutput_channels\"],\n",
    "    ] # [Input Channels, Kernels Layer 1, Kernels Layer 2, ....]\n",
    ")"
   ]
  },
  {
   "cell_type": "markdown",
   "metadata": {},
   "source": [
    "We define some utilitarian functions. `erase_frame` sets the frame border to zero. Some activations also actives for the frame border and could be misinterpreted as background. `get_adaptive_weight` gets weights for the activations, where activations with many activated pixels are set as background (weight=-1), and the opposite as foreground (weight=1)."
   ]
  },
  {
   "cell_type": "code",
   "execution_count": 31,
   "metadata": {
    "tags": []
   },
   "outputs": [],
   "source": [
    "# Zero-out frame border\n",
    "def erase_frame(activation, n):\n",
    "    activation[:n, :]  = 0\n",
    "    activation[-n: :]  = 0\n",
    "    activation[:, :n]  = 0\n",
    "    activation[:, -n:] = 0\n",
    "    \n",
    "    return activation\n",
    "\n",
    "\"\"\"\n",
    "Get activation weight, given the amount of voxels activated.\n",
    "Background activations usually activate most of the image; hence, we set its weight as -1.\n",
    "\"\"\"\n",
    "def get_adaptive_weight(activation, perc_thres):\n",
    "    n_elements = activation.shape[0] * activation.shape[1]\n",
    "    i_max = np.max(activation)\n",
    "    i_min = np.min(activation)\n",
    "    if i_max != i_min:\n",
    "        image = 255 * (activation - i_min) / (i_max - i_min)\n",
    "    else:\n",
    "        image = activation\n",
    "    image = image.astype(np.uint8)\n",
    "    \n",
    "    threshold, _ = cv2.threshold(\n",
    "        image, 0, 255, cv2.THRESH_BINARY+cv2.THRESH_OTSU\n",
    "    )\n",
    "    \n",
    "    bin_image = image > threshold\n",
    "    n_activations = np.sum(bin_image)\n",
    "    \n",
    "    if n_activations > (perc_thres * n_elements):\n",
    "        weight = -1\n",
    "    else:\n",
    "        weight = 1\n",
    "        \n",
    "    return weight"
   ]
  },
  {
   "cell_type": "markdown",
   "metadata": {},
   "source": [
    "Our adaptive Decoder works as follows:\n",
    "\n",
    "1. We will instantiate a U-Net and load our FLIM weights\n",
    "2. We start from the lowest encoder block and:\n",
    "    1. For each activation, we verify if it has a background (weight = -1) or a foreground activation (weight = 1);\n",
    "    2. We sum all activations into a single saliency map, using its weight (-1 or 1);\n",
    "    3. Based on this saliency map, we get the coordinates of the largest contour;\n",
    "    4. We repeat steps 1 to 2 for the upper layer; however, we zero activations outside the largest contour activations (avoid false positives).\n",
    "3. Based on the saliency map of the first layer, we compute our metrics."
   ]
  },
  {
   "cell_type": "code",
   "execution_count": 32,
   "metadata": {
    "tags": []
   },
   "outputs": [],
   "source": [
    "def adaptive_decoder(model, dataloader, image_id):\n",
    "    # Get an image and pass it through the network \n",
    "    image = dataloader.dataset.load_image(\n",
    "        str(dataloader.dataset.images_path[image_id])\n",
    "    )\n",
    "    image_data = dataloader.dataset.transforms(image)\n",
    "    ground_truth = dataloader.dataset.transforms(\n",
    "        ImageOps.grayscale(Image.open(dataloader.dataset.labels_path[image_id]))\n",
    "    )\n",
    "    ground_truth = ground_truth.cpu().detach().numpy()[0]\n",
    "    image_data = torch.unsqueeze(image_data, dim=0)\n",
    "    image_data = image_data.to(DEVICE)\n",
    "\n",
    "    unet.to(DEVICE)\n",
    "    unet(image_data)\n",
    "    encoder_activations = unet.activations[\"encoder\"]\n",
    "  \n",
    "    activations = encoder_activations[1].cpu().detach().numpy()[0]\n",
    "    \n",
    "    saliency    = np.zeros_like(activations[0])\n",
    "    for activation in activations:\n",
    "        activation = erase_frame(activation, 3)\n",
    "        weight = get_adaptive_weight(activation, 0.1)\n",
    "        saliency += weight * activation\n",
    "     \n",
    "    saliency[saliency < 0] = 0 # RELU\n",
    "    \n",
    "    # Scale to the ground truth size\n",
    "    saliency = cv2.resize(saliency, dsize=(240, 240), interpolation=cv2.INTER_LINEAR)\n",
    "    \n",
    "    # Gets the largest contour\n",
    "    # Binarizes image\n",
    "    \n",
    "    i_max = np.max(saliency)\n",
    "    i_min = np.min(saliency)\n",
    "    if i_max != i_min:\n",
    "        image = 255 * (saliency - i_min) / (i_max - i_min)\n",
    "        image = image.astype(np.uint8)\n",
    "        threshold, _ = cv2.threshold(\n",
    "        image, 0, 255, cv2.THRESH_BINARY+cv2.THRESH_OTSU)\n",
    "        image = image > threshold\n",
    "        contours, hierarchy = cv2.findContours(image.astype(np.uint8), cv2.RETR_TREE, cv2.CHAIN_APPROX_SIMPLE)\n",
    "        contour = max(contours, key = cv2.contourArea)\n",
    "        x_initial, y_initial, width, height = cv2.boundingRect(contour)\n",
    "        x_final = x_initial + width\n",
    "        y_final = y_initial + height\n",
    "        tmp_array = np.zeros_like(saliency)\n",
    "        tmp_array[y_initial:y_final, x_initial:x_final] = image[y_initial:y_final, x_initial:x_final]\n",
    "        saliency = tmp_array\n",
    "         \n",
    "    # Verifies if there are parasite eggs in the images\n",
    "    # Computes metrics\n",
    "    jaccard_index = JaccardIndex(num_classes=2, task=\"binary\")\n",
    "    accuracy = np.mean((saliency == ground_truth).astype(np.float32))\n",
    "    if np.any(ground_truth > 0):\n",
    "        dice = binary.dc(saliency, ground_truth)\n",
    "        iou = jaccard_index(torch.Tensor(saliency).long(), torch.Tensor(ground_truth).long())\n",
    "\n",
    "    else: # If not\n",
    "        # If there is no parasite and our model predicted it, dice and iou equals 0\n",
    "        if np.any(saliency > 0):\n",
    "            dice = 0\n",
    "            iou = 0\n",
    "        # If there is no parasite and our model did not predict it, dice and iou equals 1 (100%)\n",
    "        else:\n",
    "            dice = 1\n",
    "            iou = 1\n",
    "\n",
    "    print(f\"[INFO] Accuracy: {accuracy}\")\n",
    "    print(f\"[INFO] Dice: {dice}\")\n",
    "    print(f\"[INFO] IoU: {iou}\")\n",
    "    \n",
    "    plt.subplot(121)\n",
    "    plt.imshow(saliency, cmap=\"gray\")\n",
    "    plt.yticks([]),plt.xticks([])\n",
    "    plt.title(f\"Prediction\")\n",
    "    plt.subplot(122)\n",
    "    plt.imshow(ground_truth, cmap=\"gray\")\n",
    "    plt.yticks([]),plt.xticks([])\n",
    "    plt.title(f\"Ground Truth\")"
   ]
  },
  {
   "cell_type": "code",
   "execution_count": 33,
   "metadata": {
    "tags": []
   },
   "outputs": [
    {
     "name": "stdout",
     "output_type": "stream",
     "text": [
      "[INFO] Accuracy: 0.988159716129303\n",
      "[INFO] Dice: 0.7829408020369192\n",
      "[INFO] IoU: 0.6433054208755493\n"
     ]
    },
    {
     "data": {
      "image/png": "[encoded data removed]",
      "text/plain": [
       "<Figure size 640x480 with 2 Axes>"
      ]
     },
     "metadata": {},
     "output_type": "display_data"
    }
   ],
   "source": [
    "adaptive_decoder(\n",
    "    model=unet,\n",
    "    dataloader=train_dataloader, \n",
    "        image_id=0\n",
    ")"
   ]
  },
  {
   "cell_type": "markdown",
   "metadata": {},
   "source": [
    "## Extra - Activities\n",
    "\n",
    "- Try different losses and Class weights (weights parameter on train_loop). Could you increase performance metrics?\n",
    "- Try to improve the adaptive decoder. Could you implement any modification that increases performance metrics? And about problematic images, how would you tackle them?\n",
    "- Could you apply post-processing on predicted masks to increase performance metrics (e.g., morphological operations)?\n",
    "- Could you replicate the adaptive decoder to the whole dataset?"
   ]
  }
 ],
 "metadata": {
  "kernelspec": {
   "display_name": "Python 3 (ipykernel)",
   "language": "python",
   "name": "python3"
  },
  "language_info": {
   "codemirror_mode": {
    "name": "ipython",
    "version": 3
   },
   "file_extension": ".py",
   "mimetype": "text/x-python",
   "name": "python",
   "nbconvert_exporter": "python",
   "pygments_lexer": "ipython3",
   "version": "3.11.5"
  }
 },
 "nbformat": 4,
 "nbformat_minor": 4
}
